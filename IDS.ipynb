{
  "nbformat": 4,
  "nbformat_minor": 0,
  "metadata": {
    "colab": {
      "provenance": []
    },
    "kernelspec": {
      "name": "python3",
      "display_name": "Python 3"
    },
    "language_info": {
      "name": "python"
    }
  },
  "cells": [
    {
      "cell_type": "markdown",
      "source": [
        "# IDS using Machine Learning"
      ],
      "metadata": {
        "id": "sNjcfLYMUdmA"
      }
    },
    {
      "cell_type": "markdown",
      "source": [
        "## Importing all the libraries"
      ],
      "metadata": {
        "id": "VPFlaMnNUtpP"
      }
    },
    {
      "cell_type": "code",
      "execution_count": null,
      "metadata": {
        "id": "Qd5mlXAeUYc_"
      },
      "outputs": [],
      "source": [
        "import warnings\n",
        "warnings.filterwarnings('ignore')\n",
        "\n",
        "import numpy as np\n",
        "import pandas as pd\n",
        "import seaborn as sns\n",
        "import matplotlib.pyplot as plt\n",
        "pd.set_option(\"display.max_columns\",None)\n",
        "pd.set_option(\"display.max_rows\",None)\n",
        "%matplotlib inline"
      ]
    },
    {
      "cell_type": "markdown",
      "source": [
        "## Importing all the dataset"
      ],
      "metadata": {
        "id": "m01lm2BaU3tX"
      }
    },
    {
      "cell_type": "code",
      "source": [
        "\n",
        "df1 = pd.read_csv(\"//content//2020.07.08.csv\")\n",
        "df2 = pd.read_csv(\"//content//2021.01.01.csv\")\n",
        "df3 = pd.read_csv(\"//content//2021.02.12.csv\")\n",
        "df4 = pd.read_csv(\"//content//2022.06.12.csv\")"
      ],
      "metadata": {
        "id": "AviPl7hNU6_w"
      },
      "execution_count": null,
      "outputs": []
    },
    {
      "cell_type": "markdown",
      "source": [
        "## Merging all the dataset"
      ],
      "metadata": {
        "id": "36edXeKeU8ja"
      }
    },
    {
      "cell_type": "code",
      "source": [
        "dataset = pd.concat([df1,df2,df3,df4])"
      ],
      "metadata": {
        "id": "f2IjHKdzbD-T"
      },
      "execution_count": null,
      "outputs": []
    },
    {
      "cell_type": "markdown",
      "source": [
        "## Exploring the dataset"
      ],
      "metadata": {
        "id": "jsONATfzbKBh"
      }
    },
    {
      "cell_type": "code",
      "source": [
        "dataset.columns"
      ],
      "metadata": {
        "colab": {
          "base_uri": "https://localhost:8080/"
        },
        "id": "nIhH9LfkbNG3",
        "outputId": "5a6fb8ec-9447-4b59-ea1b-61ecaa1eaf40"
      },
      "execution_count": null,
      "outputs": [
        {
          "output_type": "execute_result",
          "data": {
            "text/plain": [
              "Index(['avg_ipt', 'bytes_in', 'bytes_out', 'dest_ip', 'dest_port', 'entropy',\n",
              "       'num_pkts_out', 'num_pkts_in', 'proto', 'src_ip', 'src_port',\n",
              "       'time_end', 'time_start', 'total_entropy', 'label', 'duration'],\n",
              "      dtype='object')"
            ]
          },
          "metadata": {},
          "execution_count": 68
        }
      ]
    },
    {
      "cell_type": "code",
      "source": [
        "dataset.head()"
      ],
      "metadata": {
        "colab": {
          "base_uri": "https://localhost:8080/",
          "height": 226
        },
        "id": "6dOOeQREbuuw",
        "outputId": "6e849a1e-e7b7-4e41-b52e-4f8a0b18f902"
      },
      "execution_count": null,
      "outputs": [
        {
          "output_type": "execute_result",
          "data": {
            "text/plain": [
              "   avg_ipt  bytes_in  bytes_out  dest_ip  dest_port   entropy  num_pkts_out  \\\n",
              "0    52.50       270        191      786      445.0  4.588516             6   \n",
              "1    50.25       270        191      786      445.0  4.588516             6   \n",
              "2    50.00       270        191      786      445.0  4.588516             6   \n",
              "3     0.00        56         56      786        NaN  1.020244             1   \n",
              "4    53.75       270        191      786      445.0  4.588516             6   \n",
              "\n",
              "   num_pkts_in  proto  src_ip  src_port          time_end        time_start  \\\n",
              "0            6      6   47331   56965.0  1594168229367522  1594168228968772   \n",
              "1            6      6   47331   57217.0  1594168231492958  1594168231104076   \n",
              "2            6      6   47331   57294.0  1594168232099461  1594168231710708   \n",
              "3            1      1   55960       NaN  1594168231421839   159416823142178   \n",
              "4            6      6   47331   57325.0  1594168232419566  1594168232008625   \n",
              "\n",
              "   total_entropy      label  duration  \n",
              "0    2115.305700  malicious  0.398750  \n",
              "1    2115.305700  malicious  0.388882  \n",
              "2    2115.305700  malicious  0.388753  \n",
              "3     114.267365    outlier  0.000059  \n",
              "4    2115.305700  malicious  0.410941  "
            ],
            "text/html": [
              "\n",
              "  <div id=\"df-140a5b3b-3317-4df9-b649-4012aa19c7f7\" class=\"colab-df-container\">\n",
              "    <div>\n",
              "<style scoped>\n",
              "    .dataframe tbody tr th:only-of-type {\n",
              "        vertical-align: middle;\n",
              "    }\n",
              "\n",
              "    .dataframe tbody tr th {\n",
              "        vertical-align: top;\n",
              "    }\n",
              "\n",
              "    .dataframe thead th {\n",
              "        text-align: right;\n",
              "    }\n",
              "</style>\n",
              "<table border=\"1\" class=\"dataframe\">\n",
              "  <thead>\n",
              "    <tr style=\"text-align: right;\">\n",
              "      <th></th>\n",
              "      <th>avg_ipt</th>\n",
              "      <th>bytes_in</th>\n",
              "      <th>bytes_out</th>\n",
              "      <th>dest_ip</th>\n",
              "      <th>dest_port</th>\n",
              "      <th>entropy</th>\n",
              "      <th>num_pkts_out</th>\n",
              "      <th>num_pkts_in</th>\n",
              "      <th>proto</th>\n",
              "      <th>src_ip</th>\n",
              "      <th>src_port</th>\n",
              "      <th>time_end</th>\n",
              "      <th>time_start</th>\n",
              "      <th>total_entropy</th>\n",
              "      <th>label</th>\n",
              "      <th>duration</th>\n",
              "    </tr>\n",
              "  </thead>\n",
              "  <tbody>\n",
              "    <tr>\n",
              "      <th>0</th>\n",
              "      <td>52.50</td>\n",
              "      <td>270</td>\n",
              "      <td>191</td>\n",
              "      <td>786</td>\n",
              "      <td>445.0</td>\n",
              "      <td>4.588516</td>\n",
              "      <td>6</td>\n",
              "      <td>6</td>\n",
              "      <td>6</td>\n",
              "      <td>47331</td>\n",
              "      <td>56965.0</td>\n",
              "      <td>1594168229367522</td>\n",
              "      <td>1594168228968772</td>\n",
              "      <td>2115.305700</td>\n",
              "      <td>malicious</td>\n",
              "      <td>0.398750</td>\n",
              "    </tr>\n",
              "    <tr>\n",
              "      <th>1</th>\n",
              "      <td>50.25</td>\n",
              "      <td>270</td>\n",
              "      <td>191</td>\n",
              "      <td>786</td>\n",
              "      <td>445.0</td>\n",
              "      <td>4.588516</td>\n",
              "      <td>6</td>\n",
              "      <td>6</td>\n",
              "      <td>6</td>\n",
              "      <td>47331</td>\n",
              "      <td>57217.0</td>\n",
              "      <td>1594168231492958</td>\n",
              "      <td>1594168231104076</td>\n",
              "      <td>2115.305700</td>\n",
              "      <td>malicious</td>\n",
              "      <td>0.388882</td>\n",
              "    </tr>\n",
              "    <tr>\n",
              "      <th>2</th>\n",
              "      <td>50.00</td>\n",
              "      <td>270</td>\n",
              "      <td>191</td>\n",
              "      <td>786</td>\n",
              "      <td>445.0</td>\n",
              "      <td>4.588516</td>\n",
              "      <td>6</td>\n",
              "      <td>6</td>\n",
              "      <td>6</td>\n",
              "      <td>47331</td>\n",
              "      <td>57294.0</td>\n",
              "      <td>1594168232099461</td>\n",
              "      <td>1594168231710708</td>\n",
              "      <td>2115.305700</td>\n",
              "      <td>malicious</td>\n",
              "      <td>0.388753</td>\n",
              "    </tr>\n",
              "    <tr>\n",
              "      <th>3</th>\n",
              "      <td>0.00</td>\n",
              "      <td>56</td>\n",
              "      <td>56</td>\n",
              "      <td>786</td>\n",
              "      <td>NaN</td>\n",
              "      <td>1.020244</td>\n",
              "      <td>1</td>\n",
              "      <td>1</td>\n",
              "      <td>1</td>\n",
              "      <td>55960</td>\n",
              "      <td>NaN</td>\n",
              "      <td>1594168231421839</td>\n",
              "      <td>159416823142178</td>\n",
              "      <td>114.267365</td>\n",
              "      <td>outlier</td>\n",
              "      <td>0.000059</td>\n",
              "    </tr>\n",
              "    <tr>\n",
              "      <th>4</th>\n",
              "      <td>53.75</td>\n",
              "      <td>270</td>\n",
              "      <td>191</td>\n",
              "      <td>786</td>\n",
              "      <td>445.0</td>\n",
              "      <td>4.588516</td>\n",
              "      <td>6</td>\n",
              "      <td>6</td>\n",
              "      <td>6</td>\n",
              "      <td>47331</td>\n",
              "      <td>57325.0</td>\n",
              "      <td>1594168232419566</td>\n",
              "      <td>1594168232008625</td>\n",
              "      <td>2115.305700</td>\n",
              "      <td>malicious</td>\n",
              "      <td>0.410941</td>\n",
              "    </tr>\n",
              "  </tbody>\n",
              "</table>\n",
              "</div>\n",
              "    <div class=\"colab-df-buttons\">\n",
              "\n",
              "  <div class=\"colab-df-container\">\n",
              "    <button class=\"colab-df-convert\" onclick=\"convertToInteractive('df-140a5b3b-3317-4df9-b649-4012aa19c7f7')\"\n",
              "            title=\"Convert this dataframe to an interactive table.\"\n",
              "            style=\"display:none;\">\n",
              "\n",
              "  <svg xmlns=\"http://www.w3.org/2000/svg\" height=\"24px\" viewBox=\"0 -960 960 960\">\n",
              "    <path d=\"M120-120v-720h720v720H120Zm60-500h600v-160H180v160Zm220 220h160v-160H400v160Zm0 220h160v-160H400v160ZM180-400h160v-160H180v160Zm440 0h160v-160H620v160ZM180-180h160v-160H180v160Zm440 0h160v-160H620v160Z\"/>\n",
              "  </svg>\n",
              "    </button>\n",
              "\n",
              "  <style>\n",
              "    .colab-df-container {\n",
              "      display:flex;\n",
              "      gap: 12px;\n",
              "    }\n",
              "\n",
              "    .colab-df-convert {\n",
              "      background-color: #E8F0FE;\n",
              "      border: none;\n",
              "      border-radius: 50%;\n",
              "      cursor: pointer;\n",
              "      display: none;\n",
              "      fill: #1967D2;\n",
              "      height: 32px;\n",
              "      padding: 0 0 0 0;\n",
              "      width: 32px;\n",
              "    }\n",
              "\n",
              "    .colab-df-convert:hover {\n",
              "      background-color: #E2EBFA;\n",
              "      box-shadow: 0px 1px 2px rgba(60, 64, 67, 0.3), 0px 1px 3px 1px rgba(60, 64, 67, 0.15);\n",
              "      fill: #174EA6;\n",
              "    }\n",
              "\n",
              "    .colab-df-buttons div {\n",
              "      margin-bottom: 4px;\n",
              "    }\n",
              "\n",
              "    [theme=dark] .colab-df-convert {\n",
              "      background-color: #3B4455;\n",
              "      fill: #D2E3FC;\n",
              "    }\n",
              "\n",
              "    [theme=dark] .colab-df-convert:hover {\n",
              "      background-color: #434B5C;\n",
              "      box-shadow: 0px 1px 3px 1px rgba(0, 0, 0, 0.15);\n",
              "      filter: drop-shadow(0px 1px 2px rgba(0, 0, 0, 0.3));\n",
              "      fill: #FFFFFF;\n",
              "    }\n",
              "  </style>\n",
              "\n",
              "    <script>\n",
              "      const buttonEl =\n",
              "        document.querySelector('#df-140a5b3b-3317-4df9-b649-4012aa19c7f7 button.colab-df-convert');\n",
              "      buttonEl.style.display =\n",
              "        google.colab.kernel.accessAllowed ? 'block' : 'none';\n",
              "\n",
              "      async function convertToInteractive(key) {\n",
              "        const element = document.querySelector('#df-140a5b3b-3317-4df9-b649-4012aa19c7f7');\n",
              "        const dataTable =\n",
              "          await google.colab.kernel.invokeFunction('convertToInteractive',\n",
              "                                                    [key], {});\n",
              "        if (!dataTable) return;\n",
              "\n",
              "        const docLinkHtml = 'Like what you see? Visit the ' +\n",
              "          '<a target=\"_blank\" href=https://colab.research.google.com/notebooks/data_table.ipynb>data table notebook</a>'\n",
              "          + ' to learn more about interactive tables.';\n",
              "        element.innerHTML = '';\n",
              "        dataTable['output_type'] = 'display_data';\n",
              "        await google.colab.output.renderOutput(dataTable, element);\n",
              "        const docLink = document.createElement('div');\n",
              "        docLink.innerHTML = docLinkHtml;\n",
              "        element.appendChild(docLink);\n",
              "      }\n",
              "    </script>\n",
              "  </div>\n",
              "\n",
              "\n",
              "<div id=\"df-376697f8-7025-4ccb-bb0c-5d4efc70fc92\">\n",
              "  <button class=\"colab-df-quickchart\" onclick=\"quickchart('df-376697f8-7025-4ccb-bb0c-5d4efc70fc92')\"\n",
              "            title=\"Suggest charts.\"\n",
              "            style=\"display:none;\">\n",
              "\n",
              "<svg xmlns=\"http://www.w3.org/2000/svg\" height=\"24px\"viewBox=\"0 0 24 24\"\n",
              "     width=\"24px\">\n",
              "    <g>\n",
              "        <path d=\"M19 3H5c-1.1 0-2 .9-2 2v14c0 1.1.9 2 2 2h14c1.1 0 2-.9 2-2V5c0-1.1-.9-2-2-2zM9 17H7v-7h2v7zm4 0h-2V7h2v10zm4 0h-2v-4h2v4z\"/>\n",
              "    </g>\n",
              "</svg>\n",
              "  </button>\n",
              "\n",
              "<style>\n",
              "  .colab-df-quickchart {\n",
              "    background-color: #E8F0FE;\n",
              "    border: none;\n",
              "    border-radius: 50%;\n",
              "    cursor: pointer;\n",
              "    display: none;\n",
              "    fill: #1967D2;\n",
              "    height: 32px;\n",
              "    padding: 0 0 0 0;\n",
              "    width: 32px;\n",
              "  }\n",
              "\n",
              "  .colab-df-quickchart:hover {\n",
              "    background-color: #E2EBFA;\n",
              "    box-shadow: 0px 1px 2px rgba(60, 64, 67, 0.3), 0px 1px 3px 1px rgba(60, 64, 67, 0.15);\n",
              "    fill: #174EA6;\n",
              "  }\n",
              "\n",
              "  [theme=dark] .colab-df-quickchart {\n",
              "    background-color: #3B4455;\n",
              "    fill: #D2E3FC;\n",
              "  }\n",
              "\n",
              "  [theme=dark] .colab-df-quickchart:hover {\n",
              "    background-color: #434B5C;\n",
              "    box-shadow: 0px 1px 3px 1px rgba(0, 0, 0, 0.15);\n",
              "    filter: drop-shadow(0px 1px 2px rgba(0, 0, 0, 0.3));\n",
              "    fill: #FFFFFF;\n",
              "  }\n",
              "</style>\n",
              "\n",
              "  <script>\n",
              "    async function quickchart(key) {\n",
              "      const charts = await google.colab.kernel.invokeFunction(\n",
              "          'suggestCharts', [key], {});\n",
              "    }\n",
              "    (() => {\n",
              "      let quickchartButtonEl =\n",
              "        document.querySelector('#df-376697f8-7025-4ccb-bb0c-5d4efc70fc92 button');\n",
              "      quickchartButtonEl.style.display =\n",
              "        google.colab.kernel.accessAllowed ? 'block' : 'none';\n",
              "    })();\n",
              "  </script>\n",
              "</div>\n",
              "    </div>\n",
              "  </div>\n"
            ]
          },
          "metadata": {},
          "execution_count": 69
        }
      ]
    },
    {
      "cell_type": "code",
      "source": [
        "dataset.info()"
      ],
      "metadata": {
        "colab": {
          "base_uri": "https://localhost:8080/"
        },
        "id": "_jWBOAhAbvyl",
        "outputId": "fbe9e7bc-120f-421b-c788-e7d1c37bdae2"
      },
      "execution_count": null,
      "outputs": [
        {
          "output_type": "stream",
          "name": "stdout",
          "text": [
            "<class 'pandas.core.frame.DataFrame'>\n",
            "Int64Index: 1055067 entries, 0 to 26166\n",
            "Data columns (total 16 columns):\n",
            " #   Column         Non-Null Count    Dtype  \n",
            "---  ------         --------------    -----  \n",
            " 0   avg_ipt        1055067 non-null  float64\n",
            " 1   bytes_in       1055067 non-null  int64  \n",
            " 2   bytes_out      1055067 non-null  int64  \n",
            " 3   dest_ip        1055067 non-null  int64  \n",
            " 4   dest_port      1032471 non-null  float64\n",
            " 5   entropy        1055067 non-null  float64\n",
            " 6   num_pkts_out   1055067 non-null  int64  \n",
            " 7   num_pkts_in    1055067 non-null  int64  \n",
            " 8   proto          1055067 non-null  int64  \n",
            " 9   src_ip         1055067 non-null  int64  \n",
            " 10  src_port       1032471 non-null  float64\n",
            " 11  time_end       1055067 non-null  int64  \n",
            " 12  time_start     1055067 non-null  int64  \n",
            " 13  total_entropy  1055067 non-null  float64\n",
            " 14  label          1055067 non-null  object \n",
            " 15  duration       1055067 non-null  float64\n",
            "dtypes: float64(6), int64(9), object(1)\n",
            "memory usage: 136.8+ MB\n"
          ]
        }
      ]
    },
    {
      "cell_type": "code",
      "source": [
        "dataset.isna().sum()"
      ],
      "metadata": {
        "colab": {
          "base_uri": "https://localhost:8080/"
        },
        "id": "qGytON-rb1t7",
        "outputId": "57190e39-dc03-43be-c442-57fb0ac8ae4c"
      },
      "execution_count": null,
      "outputs": [
        {
          "output_type": "execute_result",
          "data": {
            "text/plain": [
              "avg_ipt              0\n",
              "bytes_in             0\n",
              "bytes_out            0\n",
              "dest_ip              0\n",
              "dest_port        22596\n",
              "entropy              0\n",
              "num_pkts_out         0\n",
              "num_pkts_in          0\n",
              "proto                0\n",
              "src_ip               0\n",
              "src_port         22596\n",
              "time_end             0\n",
              "time_start           0\n",
              "total_entropy        0\n",
              "label                0\n",
              "duration             0\n",
              "dtype: int64"
            ]
          },
          "metadata": {},
          "execution_count": 71
        }
      ]
    },
    {
      "cell_type": "code",
      "source": [
        "dataset.shape"
      ],
      "metadata": {
        "colab": {
          "base_uri": "https://localhost:8080/"
        },
        "id": "KEXIvz90b4-A",
        "outputId": "23d12606-c608-4659-8cbe-60dd650e454c"
      },
      "execution_count": null,
      "outputs": [
        {
          "output_type": "execute_result",
          "data": {
            "text/plain": [
              "(1055067, 16)"
            ]
          },
          "metadata": {},
          "execution_count": 72
        }
      ]
    },
    {
      "cell_type": "code",
      "source": [
        "dataset.duplicated().sum()"
      ],
      "metadata": {
        "colab": {
          "base_uri": "https://localhost:8080/"
        },
        "id": "Q9GDsqdKb501",
        "outputId": "b3512f46-7a26-4530-dc21-1bfd302c27f9"
      },
      "execution_count": null,
      "outputs": [
        {
          "output_type": "execute_result",
          "data": {
            "text/plain": [
              "7118"
            ]
          },
          "metadata": {},
          "execution_count": 73
        }
      ]
    },
    {
      "cell_type": "code",
      "source": [
        "dataset['label'].value_counts()"
      ],
      "metadata": {
        "colab": {
          "base_uri": "https://localhost:8080/"
        },
        "id": "lgi6m4aDcWia",
        "outputId": "3015cd63-b258-4aa2-f8d4-6a3ffa3b4ada"
      },
      "execution_count": null,
      "outputs": [
        {
          "output_type": "execute_result",
          "data": {
            "text/plain": [
              "benign       581575\n",
              "malicious    286114\n",
              "outlier      187378\n",
              "Name: label, dtype: int64"
            ]
          },
          "metadata": {},
          "execution_count": 74
        }
      ]
    },
    {
      "cell_type": "code",
      "source": [
        "dataset['proto'].value_counts()"
      ],
      "metadata": {
        "colab": {
          "base_uri": "https://localhost:8080/"
        },
        "id": "IttwZKqLcsn9",
        "outputId": "3eb48f9a-5ba9-43dc-c019-9e10f360d0ea"
      },
      "execution_count": null,
      "outputs": [
        {
          "output_type": "execute_result",
          "data": {
            "text/plain": [
              "6     1013136\n",
              "1       22562\n",
              "17      19335\n",
              "58         23\n",
              "47          9\n",
              "2           2\n",
              "Name: proto, dtype: int64"
            ]
          },
          "metadata": {},
          "execution_count": 75
        }
      ]
    },
    {
      "cell_type": "markdown",
      "source": [
        "## Cleaning the data"
      ],
      "metadata": {
        "id": "lhN1oJT-cW7x"
      }
    },
    {
      "cell_type": "code",
      "source": [
        "dataset = dataset.drop(['time_start', 'time_end'], axis=1)"
      ],
      "metadata": {
        "id": "212TLddccehD"
      },
      "execution_count": null,
      "outputs": []
    },
    {
      "cell_type": "code",
      "source": [
        "dataset.dropna(inplace=True)"
      ],
      "metadata": {
        "id": "HusMx3Hecks3"
      },
      "execution_count": null,
      "outputs": []
    },
    {
      "cell_type": "code",
      "source": [
        "dataset.drop_duplicates(inplace = True)"
      ],
      "metadata": {
        "id": "Yq6FFgZecoVU"
      },
      "execution_count": null,
      "outputs": []
    },
    {
      "cell_type": "code",
      "source": [
        "dataset['label'] = dataset['label'].replace('outlier','malicious')"
      ],
      "metadata": {
        "id": "B5aEgBuycxZo"
      },
      "execution_count": null,
      "outputs": []
    },
    {
      "cell_type": "code",
      "source": [
        "dataset['label'] = dataset.label.map({'malicious':1, 'benign':0})"
      ],
      "metadata": {
        "id": "JzPVS_n6czqZ"
      },
      "execution_count": null,
      "outputs": []
    },
    {
      "cell_type": "code",
      "source": [
        "dataset['label'].value_counts()"
      ],
      "metadata": {
        "colab": {
          "base_uri": "https://localhost:8080/"
        },
        "id": "dC-BEeVGc2KU",
        "outputId": "9b243353-ce32-451a-d525-b08f63255ea7"
      },
      "execution_count": null,
      "outputs": [
        {
          "output_type": "execute_result",
          "data": {
            "text/plain": [
              "0    457062\n",
              "1    423053\n",
              "Name: label, dtype: int64"
            ]
          },
          "metadata": {},
          "execution_count": 81
        }
      ]
    },
    {
      "cell_type": "code",
      "source": [
        "# equal\n",
        "df5 = dataset[dataset[\"label\"] == 0][:300000]\n",
        "df6 = dataset[dataset[\"label\"] == 1][:300000]\n",
        "new = pd.concat([ df5,df6], axis =0)"
      ],
      "metadata": {
        "id": "71_ibJgDc60B"
      },
      "execution_count": null,
      "outputs": []
    },
    {
      "cell_type": "markdown",
      "source": [
        "## Defining X and Y of the dataset"
      ],
      "metadata": {
        "id": "laXL7HBHc-xw"
      }
    },
    {
      "cell_type": "code",
      "source": [
        "y = new[\"label\"]\n",
        "col = ['avg_ipt', 'bytes_in', 'bytes_out', 'dest_ip', 'dest_port', 'entropy','num_pkts_out', 'num_pkts_in', 'proto', 'src_ip', 'src_port', 'total_entropy', 'duration']\n",
        "x = new[col]"
      ],
      "metadata": {
        "id": "30TatF8mc72a"
      },
      "execution_count": null,
      "outputs": []
    },
    {
      "cell_type": "markdown",
      "source": [
        "## Spliting the dataset into train and test set"
      ],
      "metadata": {
        "id": "2cDhSqPndIo2"
      }
    },
    {
      "cell_type": "code",
      "source": [
        "from sklearn.model_selection import train_test_split\n",
        "from sklearn.metrics import confusion_matrix\n",
        "import seaborn as sns\n",
        "import matplotlib.pyplot as plt\n",
        "from sklearn.metrics import accuracy_score, precision_score, recall_score, f1_score\n",
        "x_train, x_test, y_train, y_test = train_test_split(x, y, test_size = 0.2, random_state = 0)"
      ],
      "metadata": {
        "id": "wO0nuP3CdEY0"
      },
      "execution_count": null,
      "outputs": []
    },
    {
      "cell_type": "code",
      "source": [
        "x_train.shape"
      ],
      "metadata": {
        "colab": {
          "base_uri": "https://localhost:8080/"
        },
        "id": "88TqI5XGdSIw",
        "outputId": "827bb260-42f5-47f8-95a1-32db92b067f1"
      },
      "execution_count": null,
      "outputs": [
        {
          "output_type": "execute_result",
          "data": {
            "text/plain": [
              "(480000, 13)"
            ]
          },
          "metadata": {},
          "execution_count": 99
        }
      ]
    },
    {
      "cell_type": "code",
      "source": [
        "x_test.shape"
      ],
      "metadata": {
        "colab": {
          "base_uri": "https://localhost:8080/"
        },
        "id": "3knuwQjPdU_M",
        "outputId": "8e9b89d0-0363-476e-c398-61665557e31a"
      },
      "execution_count": null,
      "outputs": [
        {
          "output_type": "execute_result",
          "data": {
            "text/plain": [
              "(120000, 13)"
            ]
          },
          "metadata": {},
          "execution_count": 100
        }
      ]
    },
    {
      "cell_type": "markdown",
      "source": [
        "## Training the models"
      ],
      "metadata": {
        "id": "DMRPddPUdXz7"
      }
    },
    {
      "cell_type": "markdown",
      "source": [
        "### Decision Tree classifier"
      ],
      "metadata": {
        "id": "olSZsWVkddFk"
      }
    },
    {
      "cell_type": "code",
      "source": [
        "from sklearn import tree\n",
        "from sklearn.tree import DecisionTreeClassifier\n",
        "import matplotlib.pyplot as plt\n",
        "dtc = DecisionTreeClassifier(criterion = 'entropy', random_state = 0)\n",
        "dtc.fit(x_train, y_train)\n",
        "dtc_train_accuracy=dtc.score(x_train,y_train)\n",
        "dtc_test_accuracy=dtc.score(x_test,y_test)\n",
        "print(\"Accuracy of train dataset: {:.4f}%\".format(dtc_train_accuracy*100))\n",
        "print(\"Accuracy of train dataset: {:.4f}%\".format(dtc_test_accuracy*100))"
      ],
      "metadata": {
        "colab": {
          "base_uri": "https://localhost:8080/"
        },
        "id": "hdlT3eJ8dgpK",
        "outputId": "90795710-5f1c-4813-eefd-3202f441bd16"
      },
      "execution_count": null,
      "outputs": [
        {
          "output_type": "stream",
          "name": "stdout",
          "text": [
            "Accuracy of train dataset: 99.9979%\n",
            "Accuracy of train dataset: 99.9817%\n"
          ]
        }
      ]
    },
    {
      "cell_type": "code",
      "source": [
        "y_pred = dtc.predict(x_test)\n",
        "cm = confusion_matrix(y_test,y_pred)\n",
        "sns.heatmap(cm, annot=True,fmt='g', xticklabels=['malicious', 'benign'], yticklabels=['malicious', 'benign'])\n",
        "plt.ylabel('Prediction')\n",
        "plt.xlabel('Actual')\n",
        "plt.title('Confusion Matrix')\n",
        "plt.show()"
      ],
      "metadata": {
        "colab": {
          "base_uri": "https://localhost:8080/",
          "height": 472
        },
        "id": "cAA0T6IGih0R",
        "outputId": "fdc23115-4f6b-4f67-d9f2-6336d1230df2"
      },
      "execution_count": null,
      "outputs": [
        {
          "output_type": "display_data",
          "data": {
            "text/plain": [
              "<Figure size 640x480 with 2 Axes>"
            ],
            "image/png": "[encoded data removed]"
          },
          "metadata": {}
        }
      ]
    },
    {
      "cell_type": "code",
      "source": [
        "accuracy = accuracy_score(y_test, y_pred)\n",
        "print(\"Accuracy   :\", accuracy)\n",
        "precision = precision_score(y_test, y_pred)\n",
        "print(\"Precision :\", precision)\n",
        "recall = recall_score(y_test, y_pred)\n",
        "print(\"Recall    :\", recall)\n",
        "F1_score = f1_score(y_test, y_pred)\n",
        "print(\"F1-score  :\", F1_score)"
      ],
      "metadata": {
        "id": "oq4LMrz0C8YG",
        "colab": {
          "base_uri": "https://localhost:8080/"
        },
        "outputId": "55d750cb-4636-4f2f-f01f-72732aa959eb"
      },
      "execution_count": null,
      "outputs": [
        {
          "output_type": "stream",
          "name": "stdout",
          "text": [
            "Accuracy   : 0.9998166666666667\n",
            "Precision : 0.9998503491852344\n",
            "Recall    : 0.9997838520883213\n",
            "F1-score  : 0.9998170995311096\n"
          ]
        }
      ]
    },
    {
      "cell_type": "markdown",
      "source": [
        "### Random Forest Classifier"
      ],
      "metadata": {
        "id": "0UeNhyJpCE8Z"
      }
    },
    {
      "cell_type": "code",
      "source": [
        "from sklearn.ensemble import RandomForestClassifier\n",
        "rfc = RandomForestClassifier(n_estimators = 50)\n",
        "rfc.fit(x_train, y_train)\n",
        "rfc_train_accuracy=rfc.score(x_train,y_train)\n",
        "rfc_test_accuracy=rfc.score(x_test,y_test)\n",
        "print(\"Accuracy of train dataset: {:.4f}%\".format(rfc_train_accuracy*100))\n",
        "print(\"Accuracy of test dataset: {:.4f}%\".format(rfc_test_accuracy*100))\n"
      ],
      "metadata": {
        "id": "VPJrFwTnlMni",
        "colab": {
          "base_uri": "https://localhost:8080/"
        },
        "outputId": "213ba597-76cc-495d-cc78-4580a4e677e4"
      },
      "execution_count": null,
      "outputs": [
        {
          "output_type": "stream",
          "name": "stdout",
          "text": [
            "Accuracy of train dataset: 99.9977%\n",
            "Accuracy of test dataset: 99.9875%\n"
          ]
        }
      ]
    },
    {
      "cell_type": "code",
      "source": [
        "y_pred = rfc.predict(x_test)\n",
        "cm = confusion_matrix(y_test,y_pred)\n",
        "sns.heatmap(cm, annot=True,fmt='g', xticklabels=['malicious', 'benign'], yticklabels=['malicious', 'benign'])\n",
        "plt.ylabel('Prediction')\n",
        "plt.xlabel('Actual')\n",
        "plt.title('Confusion Matrix')\n",
        "plt.show()"
      ],
      "metadata": {
        "id": "KbGNjlGoCQYY",
        "colab": {
          "base_uri": "https://localhost:8080/",
          "height": 472
        },
        "outputId": "04f27f2e-a684-4884-e14b-8bffce79afea"
      },
      "execution_count": null,
      "outputs": [
        {
          "output_type": "display_data",
          "data": {
            "text/plain": [
              "<Figure size 640x480 with 2 Axes>"
            ],
            "image/png": "[encoded data removed]"
          },
          "metadata": {}
        }
      ]
    },
    {
      "cell_type": "code",
      "source": [
        "accuracy = accuracy_score(y_test, y_pred)\n",
        "print(\"Accuracy   :\", accuracy)\n",
        "precision = precision_score(y_test, y_pred)\n",
        "print(\"Precision :\", precision)\n",
        "recall = recall_score(y_test, y_pred)\n",
        "print(\"Recall    :\", recall)\n",
        "F1_score = f1_score(y_test, y_pred)\n",
        "print(\"F1-score  :\", F1_score)"
      ],
      "metadata": {
        "id": "ZV0avPqhDFgr",
        "colab": {
          "base_uri": "https://localhost:8080/"
        },
        "outputId": "45ad6356-716b-4b4c-9c83-b4bec7fff2c2"
      },
      "execution_count": null,
      "outputs": [
        {
          "output_type": "stream",
          "name": "stdout",
          "text": [
            "Accuracy   : 0.999875\n",
            "Precision : 0.9998669881120625\n",
            "Recall    : 0.9998836126629422\n",
            "F1-score  : 0.9998753003183999\n"
          ]
        }
      ]
    },
    {
      "cell_type": "markdown",
      "source": [
        "## Finding important features of the dataset"
      ],
      "metadata": {
        "id": "6ME2dvyjopAD"
      }
    },
    {
      "cell_type": "code",
      "source": [
        "feature = dict(zip(col,rfc.feature_importances_))\n",
        "fe = sorted(feature.items(),key = lambda x: x[1], reverse=True)\n",
        "fe"
      ],
      "metadata": {
        "colab": {
          "base_uri": "https://localhost:8080/"
        },
        "id": "ATgJO49foRvL",
        "outputId": "fe37d89d-71b2-4393-b6b1-b064b892db09"
      },
      "execution_count": null,
      "outputs": [
        {
          "output_type": "execute_result",
          "data": {
            "text/plain": [
              "[('total_entropy', 0.3286275929310018),\n",
              " ('dest_port', 0.1823047889759287),\n",
              " ('bytes_out', 0.1436363330666342),\n",
              " ('duration', 0.08164100074166415),\n",
              " ('src_port', 0.06478666500769521),\n",
              " ('num_pkts_in', 0.044664829964735704),\n",
              " ('num_pkts_out', 0.037198467716777386),\n",
              " ('entropy', 0.03278751027544348),\n",
              " ('bytes_in', 0.031157577349024607),\n",
              " ('dest_ip', 0.02933190475887235),\n",
              " ('avg_ipt', 0.016089896392137204),\n",
              " ('src_ip', 0.005429973691543181),\n",
              " ('proto', 0.0023434591285419948)]"
            ]
          },
          "metadata": {},
          "execution_count": 136
        }
      ]
    },
    {
      "cell_type": "markdown",
      "source": [
        "### Logistic Regression"
      ],
      "metadata": {
        "id": "HtVq6h7BCbkL"
      }
    },
    {
      "cell_type": "code",
      "source": [
        "from sklearn.linear_model import LogisticRegression\n",
        "lr = LogisticRegression(random_state=0)\n",
        "lr.fit(x_train, y_train)\n",
        "lr_train_accuracy=lr.score(x_train,y_train)\n",
        "lr_test_accuracy=lr.score(x_test,y_test)\n",
        "print(\"Accuracy of train dataset: {:.4f}%\".format(lr_train_accuracy*100))\n",
        "print(\"Accuracy of test dataset: {:.4f}%\".format(lr_test_accuracy*100))"
      ],
      "metadata": {
        "id": "abegwZiKCf8r",
        "colab": {
          "base_uri": "https://localhost:8080/"
        },
        "outputId": "07a8525c-498f-4f86-b61d-8bfe203f60a7"
      },
      "execution_count": null,
      "outputs": [
        {
          "output_type": "stream",
          "name": "stdout",
          "text": [
            "Accuracy of train dataset: 92.4669%\n",
            "Accuracy of test dataset: 92.5517%\n"
          ]
        }
      ]
    },
    {
      "cell_type": "code",
      "source": [
        "y_pred = lr.predict(x_test)\n",
        "cm = confusion_matrix(y_test,y_pred)\n",
        "sns.heatmap(cm, annot=True,fmt='g', xticklabels=['malicious', 'benign'], yticklabels=['malicious', 'benign'])\n",
        "plt.ylabel('Prediction')\n",
        "plt.xlabel('Actual')\n",
        "plt.title('Confusion Matrix')\n",
        "plt.show()"
      ],
      "metadata": {
        "id": "OeYqt9k0DILn",
        "colab": {
          "base_uri": "https://localhost:8080/",
          "height": 472
        },
        "outputId": "5d8f1579-0b3b-4c94-ed94-31117371c428"
      },
      "execution_count": null,
      "outputs": [
        {
          "output_type": "display_data",
          "data": {
            "text/plain": [
              "<Figure size 640x480 with 2 Axes>"
            ],
            "image/png": "[encoded data removed]"
          },
          "metadata": {}
        }
      ]
    },
    {
      "cell_type": "code",
      "source": [
        "accuracy = accuracy_score(y_test, y_pred)\n",
        "print(\"Accuracy   :\", accuracy)\n",
        "precision = precision_score(y_test, y_pred)\n",
        "print(\"Precision :\", precision)\n",
        "recall = recall_score(y_test, y_pred)\n",
        "print(\"Recall    :\", recall)\n",
        "F1_score = f1_score(y_test, y_pred)\n",
        "print(\"F1-score  :\", F1_score)"
      ],
      "metadata": {
        "id": "GZMOdFRfDIZv",
        "colab": {
          "base_uri": "https://localhost:8080/"
        },
        "outputId": "a974f094-2807-47c0-e035-480358b650a8"
      },
      "execution_count": null,
      "outputs": [
        {
          "output_type": "stream",
          "name": "stdout",
          "text": [
            "Accuracy   : 0.9255166666666667\n",
            "Precision : 0.9119947219361483\n",
            "Recall    : 0.9423217611066773\n",
            "F1-score  : 0.926910244668324\n"
          ]
        }
      ]
    },
    {
      "cell_type": "markdown",
      "source": [
        "### K-Nearest Neighbour"
      ],
      "metadata": {
        "id": "x9v4FAkxCkJ2"
      }
    },
    {
      "cell_type": "code",
      "source": [
        "from sklearn.neighbors import KNeighborsClassifier\n",
        "knn = KNeighborsClassifier(n_neighbors=5)\n",
        "knn.fit(x_train, y_train)\n",
        "knn_train_accuracy=knn.score(x_train,y_train)\n",
        "knn_test_accuracy=knn.score(x_test,y_test)\n",
        "print(\"Accuracy of train dataset: {:.4f}%\".format(knn_train_accuracy*100))\n",
        "print(\"Accuracy of test dataset: {:.4f}%\".format(knn_train_accuracy*100))"
      ],
      "metadata": {
        "id": "fe8W86NTCojc",
        "colab": {
          "base_uri": "https://localhost:8080/"
        },
        "outputId": "0b27ea2a-1e31-42b0-ecf2-2fec34822289"
      },
      "execution_count": null,
      "outputs": [
        {
          "output_type": "stream",
          "name": "stdout",
          "text": [
            "Accuracy of train dataset: 99.9483%\n",
            "Accuracy of test dataset: 99.9483%\n"
          ]
        }
      ]
    },
    {
      "cell_type": "code",
      "source": [
        "y_pred = knn.predict(x_test)\n",
        "cm = confusion_matrix(y_test,y_pred)\n",
        "sns.heatmap(cm, annot=True,fmt='g', xticklabels=['malicious', 'benign'], yticklabels=['malicious', 'benign'])\n",
        "plt.ylabel('Prediction')\n",
        "plt.xlabel('Actual')\n",
        "plt.title('Confusion Matrix')\n",
        "plt.show()"
      ],
      "metadata": {
        "id": "8rf6CHd4DQuB",
        "colab": {
          "base_uri": "https://localhost:8080/",
          "height": 472
        },
        "outputId": "2b450c8e-5405-4e9e-8661-0b30d0b172d3"
      },
      "execution_count": null,
      "outputs": [
        {
          "output_type": "display_data",
          "data": {
            "text/plain": [
              "<Figure size 640x480 with 2 Axes>"
            ],
            "image/png": "[encoded data removed]"
          },
          "metadata": {}
        }
      ]
    },
    {
      "cell_type": "code",
      "source": [
        "accuracy = accuracy_score(y_test, y_pred)\n",
        "print(\"Accuracy   :\", accuracy)\n",
        "precision = precision_score(y_test, y_pred)\n",
        "print(\"Precision :\", precision)\n",
        "recall = recall_score(y_test, y_pred)\n",
        "print(\"Recall    :\", recall)\n",
        "F1_score = f1_score(y_test, y_pred)\n",
        "print(\"F1-score  :\", F1_score)"
      ],
      "metadata": {
        "id": "PWQcQOlCDQ5w",
        "colab": {
          "base_uri": "https://localhost:8080/"
        },
        "outputId": "06d0e77c-8b58-45c1-d7ea-ded15afdf7c6"
      },
      "execution_count": null,
      "outputs": [
        {
          "output_type": "stream",
          "name": "stdout",
          "text": [
            "Accuracy   : 0.9994416666666667\n",
            "Precision : 0.9998502371245528\n",
            "Recall    : 0.9990356477786645\n",
            "F1-score  : 0.9994427764701967\n"
          ]
        }
      ]
    },
    {
      "cell_type": "markdown",
      "source": [
        "### Ensemblence of DT, RF, KNN"
      ],
      "metadata": {
        "id": "aNgKqv83Cr6n"
      }
    },
    {
      "cell_type": "code",
      "source": [
        "from sklearn.metrics import log_loss\n",
        "from sklearn.ensemble import VotingClassifier\n",
        "final_model = VotingClassifier(\n",
        "estimators=[('model1', dtc), ('model2', rfc),('model3',knn)], voting='hard')\n",
        "final_model.fit(x_train, y_train)\n",
        "pred = final_model.predict(x_test)\n",
        "accuracy = accuracy_score(y_test,pred)\n",
        "print(\"accuracy: {:.4f}%\".format(accuracy*100))\n",
        "F1_score = f1_score(y_test, pred)\n",
        "print(\"F1-score  :\", F1_score)"
      ],
      "metadata": {
        "id": "4zyamZOdCyQp",
        "colab": {
          "base_uri": "https://localhost:8080/"
        },
        "outputId": "cbbe40be-c947-4b6b-e09b-0911d3b91b6f"
      },
      "execution_count": null,
      "outputs": [
        {
          "output_type": "stream",
          "name": "stdout",
          "text": [
            "accuracy: 99.9850%\n",
            "F1-score  : 0.9998503566499842\n"
          ]
        }
      ]
    },
    {
      "cell_type": "markdown",
      "source": [
        "## Applying Deep Learning"
      ],
      "metadata": {
        "id": "ukdA9ccPDccN"
      }
    },
    {
      "cell_type": "markdown",
      "source": [
        "### Artificial Neural Network"
      ],
      "metadata": {
        "id": "QdZ3E48cDnOH"
      }
    },
    {
      "cell_type": "code",
      "source": [
        "import tensorflow as tf"
      ],
      "metadata": {
        "id": "p9tlRmGzqYbL"
      },
      "execution_count": null,
      "outputs": []
    },
    {
      "cell_type": "code",
      "source": [
        "ann = tf.keras.models.Sequential()"
      ],
      "metadata": {
        "id": "aRJ7DA78DgfK"
      },
      "execution_count": null,
      "outputs": []
    },
    {
      "cell_type": "code",
      "source": [
        "ann.add(tf.keras.layers.Dense(units=6,activation='relu'))"
      ],
      "metadata": {
        "id": "vh3JnE22DuR2"
      },
      "execution_count": null,
      "outputs": []
    },
    {
      "cell_type": "code",
      "source": [
        "ann.add(tf.keras.layers.Dense(units=6,activation='relu'))"
      ],
      "metadata": {
        "id": "tcQPbsZsDy5T"
      },
      "execution_count": null,
      "outputs": []
    },
    {
      "cell_type": "code",
      "source": [
        "ann.add(tf.keras.layers.Dense(units=6,activation='relu'))"
      ],
      "metadata": {
        "id": "pwuHORq7D1Dj"
      },
      "execution_count": null,
      "outputs": []
    },
    {
      "cell_type": "code",
      "source": [
        "ann.add(tf.keras.layers.Dense(units=1,activation='sigmoid'))"
      ],
      "metadata": {
        "id": "C4eY8wk_D5ZV"
      },
      "execution_count": null,
      "outputs": []
    },
    {
      "cell_type": "code",
      "source": [
        "ann.compile(optimizer = 'adam', loss = 'binary_crossentropy', metrics = ['accuracy'])\n",
        "ann.fit(x_train, y_train, batch_size = 32, epochs = 100)"
      ],
      "metadata": {
        "id": "-yP6HdpnD748",
        "colab": {
          "base_uri": "https://localhost:8080/"
        },
        "outputId": "c548bfec-66ac-4d30-8f9d-1c33b1f58e70"
      },
      "execution_count": null,
      "outputs": [
        {
          "output_type": "stream",
          "name": "stdout",
          "text": [
            "Epoch 1/100\n",
            "15000/15000 [==============================] - 27s 2ms/step - loss: 45.4938 - accuracy: 0.9467\n",
            "Epoch 2/100\n",
            "15000/15000 [==============================] - 27s 2ms/step - loss: 0.0947 - accuracy: 0.9724\n",
            "Epoch 3/100\n",
            "15000/15000 [==============================] - 26s 2ms/step - loss: 0.1022 - accuracy: 0.9729\n",
            "Epoch 4/100\n",
            "15000/15000 [==============================] - 26s 2ms/step - loss: 0.7204 - accuracy: 0.9733\n",
            "Epoch 5/100\n",
            "15000/15000 [==============================] - 26s 2ms/step - loss: 0.0705 - accuracy: 0.9738\n",
            "Epoch 6/100\n",
            "15000/15000 [==============================] - 26s 2ms/step - loss: 8.7437 - accuracy: 0.9735\n",
            "Epoch 7/100\n",
            "15000/15000 [==============================] - 26s 2ms/step - loss: 0.0589 - accuracy: 0.9752\n",
            "Epoch 8/100\n",
            "15000/15000 [==============================] - 26s 2ms/step - loss: 0.0456 - accuracy: 0.9824\n",
            "Epoch 9/100\n",
            "15000/15000 [==============================] - 26s 2ms/step - loss: 0.0439 - accuracy: 0.9825\n",
            "Epoch 10/100\n",
            "15000/15000 [==============================] - 26s 2ms/step - loss: 0.0453 - accuracy: 0.9823\n",
            "Epoch 11/100\n",
            "15000/15000 [==============================] - 27s 2ms/step - loss: 1.4784 - accuracy: 0.9832\n",
            "Epoch 12/100\n",
            "15000/15000 [==============================] - 26s 2ms/step - loss: 0.0426 - accuracy: 0.9833\n",
            "Epoch 13/100\n",
            "15000/15000 [==============================] - 27s 2ms/step - loss: 0.0440 - accuracy: 0.9829\n",
            "Epoch 14/100\n",
            "15000/15000 [==============================] - 26s 2ms/step - loss: 0.0433 - accuracy: 0.9836\n",
            "Epoch 15/100\n",
            "15000/15000 [==============================] - 26s 2ms/step - loss: 0.0430 - accuracy: 0.9833\n",
            "Epoch 16/100\n",
            "15000/15000 [==============================] - 26s 2ms/step - loss: 0.0413 - accuracy: 0.9835\n",
            "Epoch 17/100\n",
            "15000/15000 [==============================] - 26s 2ms/step - loss: 0.0399 - accuracy: 0.9845\n",
            "Epoch 18/100\n",
            "15000/15000 [==============================] - 26s 2ms/step - loss: 0.0437 - accuracy: 0.9834\n",
            "Epoch 19/100\n",
            "15000/15000 [==============================] - 26s 2ms/step - loss: 0.0435 - accuracy: 0.9837\n",
            "Epoch 20/100\n",
            "15000/15000 [==============================] - 27s 2ms/step - loss: 0.6154 - accuracy: 0.9839\n",
            "Epoch 21/100\n",
            "15000/15000 [==============================] - 27s 2ms/step - loss: 0.0410 - accuracy: 0.9847\n",
            "Epoch 22/100\n",
            "15000/15000 [==============================] - 26s 2ms/step - loss: 0.0381 - accuracy: 0.9855\n",
            "Epoch 23/100\n",
            "15000/15000 [==============================] - 26s 2ms/step - loss: 0.0379 - accuracy: 0.9851\n",
            "Epoch 24/100\n",
            "15000/15000 [==============================] - 26s 2ms/step - loss: 5.2862 - accuracy: 0.9855\n",
            "Epoch 25/100\n",
            "15000/15000 [==============================] - 29s 2ms/step - loss: 0.0369 - accuracy: 0.9854\n",
            "Epoch 26/100\n",
            "15000/15000 [==============================] - 26s 2ms/step - loss: 0.0393 - accuracy: 0.9849\n",
            "Epoch 27/100\n",
            "15000/15000 [==============================] - 26s 2ms/step - loss: 0.0419 - accuracy: 0.9849\n",
            "Epoch 28/100\n",
            "15000/15000 [==============================] - 27s 2ms/step - loss: 10.4343 - accuracy: 0.9849\n",
            "Epoch 29/100\n",
            "15000/15000 [==============================] - 26s 2ms/step - loss: 0.0460 - accuracy: 0.9841\n",
            "Epoch 30/100\n",
            "15000/15000 [==============================] - 27s 2ms/step - loss: 0.2763 - accuracy: 0.9835\n",
            "Epoch 31/100\n",
            "15000/15000 [==============================] - 26s 2ms/step - loss: 0.0469 - accuracy: 0.9816\n",
            "Epoch 32/100\n",
            "15000/15000 [==============================] - 26s 2ms/step - loss: 0.6737 - accuracy: 0.9819\n",
            "Epoch 33/100\n",
            "15000/15000 [==============================] - 26s 2ms/step - loss: 0.0473 - accuracy: 0.9821\n",
            "Epoch 34/100\n",
            "15000/15000 [==============================] - 26s 2ms/step - loss: 0.0430 - accuracy: 0.9833\n",
            "Epoch 35/100\n",
            "15000/15000 [==============================] - 26s 2ms/step - loss: 0.0457 - accuracy: 0.9816\n",
            "Epoch 36/100\n",
            "15000/15000 [==============================] - 25s 2ms/step - loss: 0.0443 - accuracy: 0.9828\n",
            "Epoch 37/100\n",
            "15000/15000 [==============================] - 25s 2ms/step - loss: 0.0451 - accuracy: 0.9820\n",
            "Epoch 38/100\n",
            "15000/15000 [==============================] - 25s 2ms/step - loss: 0.0523 - accuracy: 0.9777\n",
            "Epoch 39/100\n",
            "15000/15000 [==============================] - 26s 2ms/step - loss: 0.0747 - accuracy: 0.9747\n",
            "Epoch 40/100\n",
            "15000/15000 [==============================] - 26s 2ms/step - loss: 0.0546 - accuracy: 0.9760\n",
            "Epoch 41/100\n",
            "15000/15000 [==============================] - 25s 2ms/step - loss: 0.7827 - accuracy: 0.9763\n",
            "Epoch 42/100\n",
            "15000/15000 [==============================] - 26s 2ms/step - loss: 0.0597 - accuracy: 0.9755\n",
            "Epoch 43/100\n",
            "15000/15000 [==============================] - 26s 2ms/step - loss: 0.0561 - accuracy: 0.9761\n",
            "Epoch 44/100\n",
            "15000/15000 [==============================] - 25s 2ms/step - loss: 0.0541 - accuracy: 0.9772\n",
            "Epoch 45/100\n",
            "15000/15000 [==============================] - 25s 2ms/step - loss: 0.0617 - accuracy: 0.9771\n",
            "Epoch 46/100\n",
            "15000/15000 [==============================] - 25s 2ms/step - loss: 0.0468 - accuracy: 0.9836\n",
            "Epoch 47/100\n",
            "15000/15000 [==============================] - 25s 2ms/step - loss: 0.0318 - accuracy: 0.9853\n",
            "Epoch 48/100\n",
            "15000/15000 [==============================] - 26s 2ms/step - loss: 0.0317 - accuracy: 0.9844\n",
            "Epoch 49/100\n",
            "15000/15000 [==============================] - 26s 2ms/step - loss: 0.0372 - accuracy: 0.9851\n",
            "Epoch 50/100\n",
            "15000/15000 [==============================] - 26s 2ms/step - loss: 0.0283 - accuracy: 0.9893\n",
            "Epoch 51/100\n",
            "15000/15000 [==============================] - 25s 2ms/step - loss: 0.0358 - accuracy: 0.9871\n",
            "Epoch 52/100\n",
            "15000/15000 [==============================] - 27s 2ms/step - loss: 0.0261 - accuracy: 0.9893\n",
            "Epoch 53/100\n",
            "15000/15000 [==============================] - 25s 2ms/step - loss: 0.0226 - accuracy: 0.9910\n",
            "Epoch 54/100\n",
            "15000/15000 [==============================] - 26s 2ms/step - loss: 0.0905 - accuracy: 0.9900\n",
            "Epoch 55/100\n",
            "15000/15000 [==============================] - 25s 2ms/step - loss: 0.0231 - accuracy: 0.9898\n",
            "Epoch 56/100\n",
            "15000/15000 [==============================] - 25s 2ms/step - loss: 0.0220 - accuracy: 0.9907\n",
            "Epoch 57/100\n",
            "15000/15000 [==============================] - 25s 2ms/step - loss: 0.0199 - accuracy: 0.9940\n",
            "Epoch 58/100\n",
            "15000/15000 [==============================] - 27s 2ms/step - loss: 0.0178 - accuracy: 0.9943\n",
            "Epoch 59/100\n",
            "15000/15000 [==============================] - 25s 2ms/step - loss: 0.0210 - accuracy: 0.9920\n",
            "Epoch 60/100\n",
            "15000/15000 [==============================] - 25s 2ms/step - loss: 0.0196 - accuracy: 0.9919\n",
            "Epoch 61/100\n",
            "15000/15000 [==============================] - 26s 2ms/step - loss: 0.1110 - accuracy: 0.9924\n",
            "Epoch 62/100\n",
            "15000/15000 [==============================] - 25s 2ms/step - loss: 0.0872 - accuracy: 0.9939\n",
            "Epoch 63/100\n",
            "15000/15000 [==============================] - 26s 2ms/step - loss: 0.0208 - accuracy: 0.9929\n",
            "Epoch 64/100\n",
            "15000/15000 [==============================] - 25s 2ms/step - loss: 0.0248 - accuracy: 0.9909\n",
            "Epoch 65/100\n",
            "15000/15000 [==============================] - 26s 2ms/step - loss: 0.0574 - accuracy: 0.9901\n",
            "Epoch 66/100\n",
            "15000/15000 [==============================] - 26s 2ms/step - loss: 0.0215 - accuracy: 0.9924\n",
            "Epoch 67/100\n",
            "15000/15000 [==============================] - 27s 2ms/step - loss: 0.1399 - accuracy: 0.9932\n",
            "Epoch 68/100\n",
            "15000/15000 [==============================] - 26s 2ms/step - loss: 0.0211 - accuracy: 0.9908\n",
            "Epoch 69/100\n",
            "15000/15000 [==============================] - 25s 2ms/step - loss: 0.6623 - accuracy: 0.9954\n",
            "Epoch 70/100\n",
            "15000/15000 [==============================] - 25s 2ms/step - loss: 0.0170 - accuracy: 0.9948\n",
            "Epoch 71/100\n",
            "15000/15000 [==============================] - 25s 2ms/step - loss: 0.1412 - accuracy: 0.9951\n",
            "Epoch 72/100\n",
            "15000/15000 [==============================] - 26s 2ms/step - loss: 0.0166 - accuracy: 0.9945\n",
            "Epoch 73/100\n",
            "15000/15000 [==============================] - 27s 2ms/step - loss: 0.1506 - accuracy: 0.9936\n",
            "Epoch 74/100\n",
            "15000/15000 [==============================] - 25s 2ms/step - loss: 0.6517 - accuracy: 0.9907\n",
            "Epoch 75/100\n",
            "15000/15000 [==============================] - 25s 2ms/step - loss: 0.0211 - accuracy: 0.9902\n",
            "Epoch 76/100\n",
            "15000/15000 [==============================] - 26s 2ms/step - loss: 0.0705 - accuracy: 0.9928\n",
            "Epoch 77/100\n",
            "15000/15000 [==============================] - 26s 2ms/step - loss: 0.0157 - accuracy: 0.9952\n",
            "Epoch 78/100\n",
            "15000/15000 [==============================] - 26s 2ms/step - loss: 0.3646 - accuracy: 0.9931\n",
            "Epoch 79/100\n",
            "15000/15000 [==============================] - 26s 2ms/step - loss: 0.1509 - accuracy: 0.9928\n",
            "Epoch 80/100\n",
            "15000/15000 [==============================] - 26s 2ms/step - loss: 0.0170 - accuracy: 0.9940\n",
            "Epoch 81/100\n",
            "15000/15000 [==============================] - 25s 2ms/step - loss: 0.0206 - accuracy: 0.9912\n",
            "Epoch 82/100\n",
            "15000/15000 [==============================] - 26s 2ms/step - loss: 0.0273 - accuracy: 0.9956\n",
            "Epoch 83/100\n",
            "15000/15000 [==============================] - 26s 2ms/step - loss: 0.0152 - accuracy: 0.9958\n",
            "Epoch 84/100\n",
            "15000/15000 [==============================] - 26s 2ms/step - loss: 0.6653 - accuracy: 0.9959\n",
            "Epoch 85/100\n",
            "15000/15000 [==============================] - 27s 2ms/step - loss: 0.0180 - accuracy: 0.9936\n",
            "Epoch 86/100\n",
            "15000/15000 [==============================] - 26s 2ms/step - loss: 0.0191 - accuracy: 0.9928\n",
            "Epoch 87/100\n",
            "15000/15000 [==============================] - 26s 2ms/step - loss: 0.1027 - accuracy: 0.9960\n",
            "Epoch 88/100\n",
            "15000/15000 [==============================] - 26s 2ms/step - loss: 0.0168 - accuracy: 0.9946\n",
            "Epoch 89/100\n",
            "15000/15000 [==============================] - 26s 2ms/step - loss: 0.1308 - accuracy: 0.9961\n",
            "Epoch 90/100\n",
            "15000/15000 [==============================] - 26s 2ms/step - loss: 0.0146 - accuracy: 0.9961\n",
            "Epoch 91/100\n",
            "15000/15000 [==============================] - 26s 2ms/step - loss: 0.1124 - accuracy: 0.9929\n",
            "Epoch 92/100\n",
            "15000/15000 [==============================] - 26s 2ms/step - loss: 0.0160 - accuracy: 0.9950\n",
            "Epoch 93/100\n",
            "15000/15000 [==============================] - 26s 2ms/step - loss: 0.0148 - accuracy: 0.9960\n",
            "Epoch 94/100\n",
            "15000/15000 [==============================] - 26s 2ms/step - loss: 0.0129 - accuracy: 0.9967\n",
            "Epoch 95/100\n",
            "15000/15000 [==============================] - 27s 2ms/step - loss: 0.0136 - accuracy: 0.9966\n",
            "Epoch 96/100\n",
            "15000/15000 [==============================] - 26s 2ms/step - loss: 0.0975 - accuracy: 0.9965\n",
            "Epoch 97/100\n",
            "15000/15000 [==============================] - 26s 2ms/step - loss: 0.0134 - accuracy: 0.9966\n",
            "Epoch 98/100\n",
            "15000/15000 [==============================] - 26s 2ms/step - loss: 0.0210 - accuracy: 0.9967\n",
            "Epoch 99/100\n",
            "15000/15000 [==============================] - 26s 2ms/step - loss: 0.0132 - accuracy: 0.9965\n",
            "Epoch 100/100\n",
            "15000/15000 [==============================] - 27s 2ms/step - loss: 0.0133 - accuracy: 0.9966\n"
          ]
        },
        {
          "output_type": "execute_result",
          "data": {
            "text/plain": [
              "<keras.callbacks.History at 0x7d00852c09d0>"
            ]
          },
          "metadata": {},
          "execution_count": 155
        }
      ]
    },
    {
      "cell_type": "code",
      "source": [
        "y_pred = ann.predict(x_test)\n",
        "y_pred = (y_pred > 0.5)\n",
        "\n",
        "from sklearn.metrics import confusion_matrix, accuracy_score\n",
        "cm = confusion_matrix(y_test, y_pred)\n",
        "print(cm)\n",
        "acc=accuracy_score(y_test, y_pred)\n",
        "print(\"Accuracy is :\", acc*100,\"%\")"
      ],
      "metadata": {
        "id": "XgaAVqAPD_np",
        "colab": {
          "base_uri": "https://localhost:8080/"
        },
        "outputId": "0fc7c253-35a4-47df-df75-ae132a86f517"
      },
      "execution_count": null,
      "outputs": [
        {
          "output_type": "stream",
          "name": "stdout",
          "text": [
            "3750/3750 [==============================] - 4s 1ms/step\n",
            "[[59819    37]\n",
            " [  308 59836]]\n",
            "Accuracy is : 99.7125 %\n"
          ]
        }
      ]
    }
  ]
}